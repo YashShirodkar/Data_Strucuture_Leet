{
 "cells": [
  {
   "cell_type": "code",
   "execution_count": 3,
   "metadata": {},
   "outputs": [
    {
     "name": "stdout",
     "output_type": "stream",
     "text": [
      "1\n",
      "2\n",
      "3\n",
      "4\n",
      "5\n",
      "4\n",
      "4\n",
      "5\n",
      "5\n"
     ]
    }
   ],
   "source": [
    "def removeDuplicates(arr, n): \n",
    "    if n == 0 or n == 1: \n",
    "        return n \n",
    "  \n",
    "    # To store index of next \n",
    "    # unique element \n",
    "    j = 0\n",
    "  \n",
    "    # Doing same as done \n",
    "    # in Method 1 Just \n",
    "    # maintaining another  \n",
    "    # updated index i.e. j \n",
    "    for i in range(0, n-1): \n",
    "        if arr[i] != arr[i+1]: \n",
    "            arr[j] = arr[i] \n",
    "            j += 1\n",
    "  \n",
    "    arr[j] = arr[n-1] \n",
    "    j += 1\n",
    "    return j \n",
    "\n",
    "\n",
    "# Driver code \n",
    "arr = [1, 2, 2, 3, 4, 4, 4, 5, 5] \n",
    "n = len(arr) \n",
    "  \n",
    "# removeDuplicates() returns \n",
    "# new size of array. \n",
    "n = removeDuplicates(arr, n) \n",
    "#print (n)  \n",
    "# Print updated array \n",
    "for i in arr: \n",
    "    print (i)\n",
    "    #print (\" %d \"%(arr[i]), end = \" \") "
   ]
  },
  {
   "cell_type": "code",
   "execution_count": null,
   "metadata": {},
   "outputs": [],
   "source": []
  }
 ],
 "metadata": {
  "kernelspec": {
   "display_name": "Python 3",
   "language": "python",
   "name": "python3"
  },
  "language_info": {
   "codemirror_mode": {
    "name": "ipython",
    "version": 3
   },
   "file_extension": ".py",
   "mimetype": "text/x-python",
   "name": "python",
   "nbconvert_exporter": "python",
   "pygments_lexer": "ipython3",
   "version": "3.8.5"
  }
 },
 "nbformat": 4,
 "nbformat_minor": 4
}
