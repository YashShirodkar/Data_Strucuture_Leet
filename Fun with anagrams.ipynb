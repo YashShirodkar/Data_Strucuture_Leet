{
 "cells": [
  {
   "cell_type": "code",
   "execution_count": 1,
   "metadata": {},
   "outputs": [
    {
     "data": {
      "text/plain": [
       "['aaagmnrs', 'code']"
      ]
     },
     "execution_count": 1,
     "metadata": {},
     "output_type": "execute_result"
    }
   ],
   "source": [
    "def checkForAnagrams(word, arr):\n",
    "    # Checking if the word has an anagram in the sliced array.\n",
    "    for x in arr:\n",
    "        if (sorted(word) == sorted(x)):\n",
    "            return True\n",
    "    return False\n",
    "            \n",
    "def funWithAnagrams(text):\n",
    "    limit = len(text)\n",
    "    text.reverse()\n",
    "    # Creating a copy of the list which will be modified,\n",
    "    # and will not affect the array slicing during the loop.\n",
    "    final_text = list(text)\n",
    "\n",
    "    # Looping through the list in reverse since we're eliminating\n",
    "    # the second anagram we find from the original list order.\n",
    "    count = 0\n",
    "    for i in range(0, limit):\n",
    "        if text[i+1:] and checkForAnagrams(text[i], text[i+1:]):\n",
    "            final_text.pop(i - count)\n",
    "            count += 1\n",
    "\n",
    "    return sorted(final_text)\n",
    "\n",
    "textt = [\"code\", \"aaagmnrs\", \"anagrams\",\"doce\"]\n",
    "funWithAnagrams(textt)"
   ]
  },
  {
   "cell_type": "code",
   "execution_count": null,
   "metadata": {},
   "outputs": [],
   "source": []
  }
 ],
 "metadata": {
  "kernelspec": {
   "display_name": "Python 3",
   "language": "python",
   "name": "python3"
  },
  "language_info": {
   "codemirror_mode": {
    "name": "ipython",
    "version": 3
   },
   "file_extension": ".py",
   "mimetype": "text/x-python",
   "name": "python",
   "nbconvert_exporter": "python",
   "pygments_lexer": "ipython3",
   "version": "3.8.5"
  }
 },
 "nbformat": 4,
 "nbformat_minor": 4
}
