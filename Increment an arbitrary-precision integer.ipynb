{
 "cells": [
  {
   "cell_type": "code",
   "execution_count": 11,
   "metadata": {},
   "outputs": [
    {
     "name": "stdout",
     "output_type": "stream",
     "text": [
      "[1, 2, 1]\n"
     ]
    }
   ],
   "source": [
    "A = [1,2,4]\n",
    "\n",
    "\n",
    "A[-1] = +1\n",
    "# A = [1,2,5]\n",
    "\n",
    "\n",
    "for i in reversed(range(1,len(A))):\n",
    "    if A[i] != 10:\n",
    "        break\n",
    "    A[i] = 0\n",
    "    A[i-1] +=1\n",
    "    \n",
    "else:\n",
    "    if A[0] == 10:\n",
    "        A[0] = 1\n",
    "        A.append(0)\n",
    "print(A)\n",
    "    "
   ]
  },
  {
   "cell_type": "code",
   "execution_count": null,
   "metadata": {},
   "outputs": [],
   "source": []
  }
 ],
 "metadata": {
  "kernelspec": {
   "display_name": "Python 3",
   "language": "python",
   "name": "python3"
  },
  "language_info": {
   "codemirror_mode": {
    "name": "ipython",
    "version": 3
   },
   "file_extension": ".py",
   "mimetype": "text/x-python",
   "name": "python",
   "nbconvert_exporter": "python",
   "pygments_lexer": "ipython3",
   "version": "3.8.5"
  }
 },
 "nbformat": 4,
 "nbformat_minor": 4
}
