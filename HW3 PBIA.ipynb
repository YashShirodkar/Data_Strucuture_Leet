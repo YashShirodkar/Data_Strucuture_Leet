{
 "cells": [
  {
   "cell_type": "code",
   "execution_count": 20,
   "metadata": {},
   "outputs": [
    {
     "name": "stdout",
     "output_type": "stream",
     "text": [
      "{'State': 'WA', 'Dem': '1.0', 'Rep': '0.1'}\n",
      "{'WA': 0.9}\n"
     ]
    }
   ],
   "source": [
    "def row_to_edge(row):\n",
    "    return float(row[\"Dem\"]) - float(row[\"Rep\"])\n",
    "\n",
    "def state_edges(election_result_rows):\n",
    "\n",
    "    state_edge ={}\n",
    "    \n",
    "    for index in election_result_rows:\n",
    "        print (index)\n",
    "        edge_val = row_to_edge(index)\n",
    "        state = index[\"State\"]\n",
    "        state_edge[state] = edge_val\n",
    "\n",
    "    #print (state_edge)\n",
    "\n",
    "def test_state_edges():\n",
    "\n",
    "    rows2 = [{'State': 'WA', 'Dem': '1.0', 'Rep': '0.1'}]\n",
    "    \n",
    "    state_edges(rows2)\n",
    "test_state_edges()"
   ]
  },
  {
   "cell_type": "code",
   "execution_count": 26,
   "metadata": {},
   "outputs": [
    {
     "name": "stdout",
     "output_type": "stream",
     "text": [
      "True\n"
     ]
    }
   ],
   "source": [
    "#test_earlier_date\n",
    "import time \n",
    "def earlier_date(date1, date2):\n",
    "    \"\"\"\n",
    "    Given two dates as strings (formatted like \"Oct 06 2012\"), returns True if \n",
    "    date1 is after date2.\n",
    "    \"\"\"\n",
    "    return (time.strptime(date1, \"%b %d %Y\") < time.strptime(date2, \"%b %d %Y\"))\n",
    "\n",
    "val = earlier_date(\"Jan 01 2012\", \"Jan 02 2012\")\n",
    "print (val)"
   ]
  },
  {
   "cell_type": "code",
   "execution_count": 57,
   "metadata": {},
   "outputs": [],
   "source": [
    "poll_rows1 = [{\"ID\":1, \"State\":\"WA\", \"Pollster\":\"A\", \"Date\":\"Jan 07 2010\"},\n",
    "              {\"ID\":2, \"State\":\"WA\", \"Pollster\":\"B\", \"Date\":\"Mar 21 2010\"},\n",
    "              {\"ID\":3, \"State\":\"WA\", \"Pollster\":\"A\", \"Date\":\"Jan 08 2010\"},\n",
    "              {\"ID\":4, \"State\":\"OR\", \"Pollster\":\"A\", \"Date\":\"Feb 10 2010\"},\n",
    "              {\"ID\":5, \"State\":\"WA\", \"Pollster\":\"B\", \"Date\":\"Feb 10 2010\"},\n",
    "              {\"ID\":6, \"State\":\"WA\", \"Pollster\":\"B\", \"Date\":\"Mar 22 2010\"}]\n",
    "\n",
    "def most_recent_poll_row(poll_rows, pollster, state):\n",
    "\n",
    "    dates = []\n",
    "    final_dict = {}\n",
    "    for i in poll_rows:\n",
    "        if i[\"State\"] == state and i[\"Pollster\"] == pollster:\n",
    "            dates.append(i[\"Date\"])\n",
    "\n",
    "    if not dates:\n",
    "        return None\n",
    "\n",
    "    final_ans = max(dates)\n",
    "\n",
    "    for i in poll_rows:\n",
    "        if i[\"Date\"] == final_ans and i[\"State\"] == state and i[\"Pollster\"] == pollster:\n",
    "            final_dict[\"ID\"] = i[\"ID\"]\n",
    "            final_dict[\"State\"] = i[\"State\"]\n",
    "            final_dict[\"Pollster\"] = i[\"Pollster\"]\n",
    "            final_dict[\"Date\"] = i[\"Date\"]\n",
    "    return (final_dict)\n",
    "\n",
    "most_recent_poll_row(poll_rows1, \"B\", \"OR\")\n"
   ]
  },
  {
   "cell_type": "code",
   "execution_count": 94,
   "metadata": {},
   "outputs": [
    {
     "name": "stdout",
     "output_type": "stream",
     "text": [
      "{'WA': 0.9, 'CA': -1.1} {'WA': 2.0, 'CA': -9.3}\n",
      "{'PPP': {'WA': 0.9, 'CA': -1.1}, 'ISPOS': {'WA': 2.0, 'CA': -9.3}}\n"
     ]
    }
   ],
   "source": [
    "rows3 = [\n",
    "      {'State': 'WA', 'Dem': '1.0', 'Rep': '0.1', 'Date': 'Nov 05 2008', 'Pollster': 'PPP'},\n",
    "      {'State': 'CA', 'Dem': '2.1', 'Rep': '3.2', 'Date': 'Nov 04 2008', 'Pollster': 'PPP'},\n",
    "      {'State': 'WA', 'Dem': '9.1', 'Rep': '7.1', 'Date': 'Nov 05 2008', 'Pollster': 'IPSOS'},\n",
    "      {'State': 'CA', 'Dem': '1.0', 'Rep': '10.3', 'Date': 'Nov 04 2008', 'Pollster': 'IPSOS'}]\n",
    "PPP = {}\n",
    "ISPOS ={}\n",
    "\n",
    "def pollster_predictions(rows2):\n",
    "    for i in rows2:\n",
    "        if i[\"Pollster\"] == \"PPP\":\n",
    "            PPP[i[\"State\"]] = float(i[\"Dem\"]) - float(i[\"Rep\"])\n",
    "        else:\n",
    "            #create ipsos dict\n",
    "            ISPOS[i[\"State\"]] = float(i[\"Dem\"]) - float(i[\"Rep\"])\n",
    "    \n",
    "#     final_dict[PPP]= PPP\n",
    "#     final_dict[ISPOS] = ISPOS\n",
    "                \n",
    "\n",
    "#     d = {}\n",
    "#     d['dict1'] = {}\n",
    "#     d['dict1']['innerkey'] = 'value'\n",
    "pollster_predictions(rows3)\n",
    "print (PPP,ISPOS)\n",
    "new_dict = {}\n",
    "\n",
    "if not PPP :\n",
    "    new_dict[\"ISPOS\"] = ISPOS\n",
    "    print (new_dict)\n",
    "elif not ISPOS:\n",
    "    new_dict[\"PPP\"] = PPP\n",
    "    print (new_dict)\n",
    "else:\n",
    "    new_dict[\"PPP\"] = PPP\n",
    "    new_dict[\"ISPOS\"] = ISPOS\n",
    "    print (new_dict)\n",
    "\n",
    "\n",
    "\n",
    "    "
   ]
  },
  {
   "cell_type": "code",
   "execution_count": 122,
   "metadata": {},
   "outputs": [
    {
     "name": "stdout",
     "output_type": "stream",
     "text": [
      "{'WA': 1.0, 'CA': -2.0, 'ID': -20.0} {'WA': 2.0, 'CA': -1.0, 'ID': -19.0, 'OR': 2.2, 'DC': 0.1}\n",
      "['WA', 'CA', 'ID']\n",
      "{'WA': 2.0, 'ID': -19.0} {'WA': 2.0, 'CA': -1.0, 'ID': -19.0, 'OR': 2.2, 'DC': 0.1}\n",
      "['WA', 'ID']\n",
      "{'PPP': 1.0, 'ISPOP': 0.0}\n"
     ]
    }
   ],
   "source": [
    "def average_error(state_edges_predicted, state_edges_actual):\n",
    "    #actual = state_edges_actual\n",
    "    #predict = state_edges_predicted\n",
    "    print (state_edges_predicted, state_edges_actual)\n",
    "    l = []\n",
    "    pred = []\n",
    "    err = []\n",
    "    avg = 0\n",
    "    \n",
    "    l = state_edges_predicted.keys()\n",
    "    for i in l:\n",
    "        pred.append(i)\n",
    "    print (pred)\n",
    "    \n",
    "    for i in pred:\n",
    "        if state_edges_actual[i]:\n",
    "            err.append(abs(state_edges_predicted[i] - state_edges_actual[i]))\n",
    "    \n",
    "    #print (sum(err))\n",
    "    \n",
    "    avg = sum(err)/len(err)\n",
    "    \n",
    "    return (avg)\n",
    "predictions = { 'PPP': {'WA': 1.0, 'CA': -2.0, 'ID': -20.0}, \n",
    "      'ISPOP': {'WA': 2.0, 'ID': -19.0} \n",
    "      }\n",
    "actual = {'WA': 2.0, 'CA': -1.0, 'ID': -19.0, 'OR': 2.2, 'DC': 0.1}\n",
    "\n",
    "state_edges_pred_PPP = predictions[\"PPP\"]\n",
    "state_edges_pred_ISPOS = predictions[\"ISPOP\"]\n",
    "state_edges_act_3 = actual\n",
    "\n",
    "avg_err_PPP = average_error(state_edges_pred_PPP, actual)\n",
    "avg_err_ISPOP = average_error(state_edges_pred_ISPOS, actual)         \n",
    "\n",
    "final_dict = {}\n",
    "\n",
    "final_dict[\"PPP\"] = avg_err_PPP\n",
    "final_dict[\"ISPOP\"] = avg_err_ISPOP\n",
    "\n",
    "print (final_dict)"
   ]
  },
  {
   "cell_type": "code",
   "execution_count": 105,
   "metadata": {},
   "outputs": [
    {
     "data": {
      "text/plain": [
       "0"
      ]
     },
     "execution_count": 105,
     "metadata": {},
     "output_type": "execute_result"
    }
   ],
   "source": [
    "predictions = {\n",
    "      'PPP': {'WA': 1.0, 'CA': -2.0, 'ID': -20.0}, \n",
    "      'ISPOP': {'WA': 2.0, 'ID': -19.0} \n",
    "      }\n",
    "    actual = {'WA': 2.0, 'CA': -1.0, 'ID': -19.0, 'OR': 2.2, 'DC': 0.1}"
   ]
  },
  {
   "cell_type": "code",
   "execution_count": null,
   "metadata": {},
   "outputs": [],
   "source": []
  }
 ],
 "metadata": {
  "kernelspec": {
   "display_name": "Python 3",
   "language": "python",
   "name": "python3"
  },
  "language_info": {
   "codemirror_mode": {
    "name": "ipython",
    "version": 3
   },
   "file_extension": ".py",
   "mimetype": "text/x-python",
   "name": "python",
   "nbconvert_exporter": "python",
   "pygments_lexer": "ipython3",
   "version": "3.8.5"
  }
 },
 "nbformat": 4,
 "nbformat_minor": 4
}
