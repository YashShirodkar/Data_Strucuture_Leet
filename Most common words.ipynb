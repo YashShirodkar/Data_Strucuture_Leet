{
 "cells": [
  {
   "cell_type": "code",
   "execution_count": 55,
   "metadata": {},
   "outputs": [
    {
     "name": "stdout",
     "output_type": "stream",
     "text": [
      "a-a- a- a- b-b-b-c- c\n",
      "['a', 'a', ' a', ' a', ' b', 'b', 'b', 'c', ' c']\n",
      "b\n"
     ]
    }
   ],
   "source": [
    "import re \n",
    "import string\n",
    "\n",
    "banned = [\"a\"]\n",
    "new_dict ={}\n",
    "punc = \"!?',;.\"\n",
    "     \n",
    "test_string = \"a,a, a, a, b,b,b,c, c\"\n",
    "for j in test_string:  \n",
    "    if j in punc:  \n",
    "        test_string = test_string.replace(j, \"-\")\n",
    "        \n",
    "print (test_string)\n",
    "para = test_string.lower()\n",
    "new_string = para.split(\"-\")\n",
    "print (new_string)\n",
    "for i in new_string:\n",
    "    i= i.replace(\" \", \"\")\n",
    "    #print(i)\n",
    "    if i in banned:\n",
    "        #print (\"The list of words is : \" + i) \n",
    "        continue\n",
    "    else:\n",
    "        if i in new_dict:\n",
    "            new_dict[i] += 1\n",
    "            if new_dict[i]>temp:\n",
    "                temp = new_dict[i]\n",
    "        else:\n",
    "            new_dict[i] = 1\n",
    "            temp = 1\n",
    "x = max(new_dict, key=new_dict.get)\n",
    "\n",
    "print (x)            \n",
    "        \n"
   ]
  },
  {
   "cell_type": "code",
   "execution_count": null,
   "metadata": {},
   "outputs": [],
   "source": []
  }
 ],
 "metadata": {
  "kernelspec": {
   "display_name": "Python 3",
   "language": "python",
   "name": "python3"
  },
  "language_info": {
   "codemirror_mode": {
    "name": "ipython",
    "version": 3
   },
   "file_extension": ".py",
   "mimetype": "text/x-python",
   "name": "python",
   "nbconvert_exporter": "python",
   "pygments_lexer": "ipython3",
   "version": "3.8.5"
  }
 },
 "nbformat": 4,
 "nbformat_minor": 4
}
