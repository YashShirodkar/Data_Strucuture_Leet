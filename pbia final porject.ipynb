{
 "cells": [
  {
   "cell_type": "code",
   "execution_count": 2,
   "metadata": {},
   "outputs": [
    {
     "name": "stdout",
     "output_type": "stream",
     "text": [
      "peru\n"
     ]
    }
   ],
   "source": [
    "def get_color(country):\n",
    "    country_color_dict= {}\n",
    "\n",
    "    country_color_dict[\"United States\"] = \"red\"\n",
    "    country_color_dict[\"China\"] = \"peru\"\n",
    "    country_color_dict[\"India\"] = \"gold\"\n",
    "    country_color_dict[\"United Kingdom\"] = \"yellowgreen\"\n",
    "    country_color_dict[\"France\"] = \"bisque\"\n",
    "    country_color_dict[\"Germany\"] = \"teal\"\n",
    "    country_color_dict[\"Italy\"] = \"crimson\"\n",
    "    country_color_dict[\"Japan\"] = \"blue\"\n",
    "    country_color_dict[\"Canada\"] = \"violet\"\n",
    "    country_color_dict[\"Switzerland\"] = \"forestgreen\"\n",
    "    country_color_dict[\"Australia\"] = \"stalegrey\"\n",
    "    country_color_dict[\"Brazil\"] = \"pink\"\n",
    "\n",
    "    return country_color_dict[country]\n",
    "\n",
    "color = get_color(\"China\")\n",
    "print (color)"
   ]
  },
  {
   "cell_type": "code",
   "execution_count": null,
   "metadata": {},
   "outputs": [],
   "source": []
  }
 ],
 "metadata": {
  "kernelspec": {
   "display_name": "Python 3",
   "language": "python",
   "name": "python3"
  },
  "language_info": {
   "codemirror_mode": {
    "name": "ipython",
    "version": 3
   },
   "file_extension": ".py",
   "mimetype": "text/x-python",
   "name": "python",
   "nbconvert_exporter": "python",
   "pygments_lexer": "ipython3",
   "version": "3.8.5"
  }
 },
 "nbformat": 4,
 "nbformat_minor": 4
}
