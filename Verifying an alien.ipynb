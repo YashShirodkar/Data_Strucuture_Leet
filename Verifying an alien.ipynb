{
 "cells": [
  {
   "cell_type": "code",
   "execution_count": 18,
   "metadata": {},
   "outputs": [
    {
     "name": "stdout",
     "output_type": "stream",
     "text": [
      "{'a': 0, 'x': 1, 'y': 2, 'z': 3, 'b': 4, 'c': 5, 'e': 6}\n",
      "y\n"
     ]
    }
   ],
   "source": [
    "order= 'axyzbce'\n",
    "\n",
    "dict = {}\n",
    "\n",
    "i = 0\n",
    "\n",
    "for element in range(0, len(order)):\n",
    "    dict[order[element]] = i\n",
    "    i = i + 1\n",
    "    \n",
    "key_list = list(dict.keys())\n",
    "val_list = list(dict.values())\n",
    "\n",
    "print (dict)\n",
    "print(key_list[2])\n"
   ]
  },
  {
   "cell_type": "code",
   "execution_count": 38,
   "metadata": {},
   "outputs": [
    {
     "name": "stdout",
     "output_type": "stream",
     "text": [
      "[0, 5, 6]\n"
     ]
    }
   ],
   "source": [
    "words = ['ax', 'ac', 'ae']\n",
    "list_num = []\n",
    "\n",
    "for i, n in enumerate(words):\n",
    "    ch = n[0]\n",
    "    if \n",
    "    list_num.append(int(dict[ch]))\n",
    "\n",
    "list_num_check = sorted(list_num)\n",
    "print (list_num_check)"
   ]
  },
  {
   "cell_type": "code",
   "execution_count": 41,
   "metadata": {},
   "outputs": [
    {
     "name": "stdout",
     "output_type": "stream",
     "text": [
      "True\n"
     ]
    }
   ],
   "source": [
    "if list_num_check == list_num:\n",
    "    print (True)"
   ]
  },
  {
   "cell_type": "code",
   "execution_count": null,
   "metadata": {},
   "outputs": [],
   "source": []
  }
 ],
 "metadata": {
  "kernelspec": {
   "display_name": "Python 3",
   "language": "python",
   "name": "python3"
  },
  "language_info": {
   "codemirror_mode": {
    "name": "ipython",
    "version": 3
   },
   "file_extension": ".py",
   "mimetype": "text/x-python",
   "name": "python",
   "nbconvert_exporter": "python",
   "pygments_lexer": "ipython3",
   "version": "3.8.5"
  }
 },
 "nbformat": 4,
 "nbformat_minor": 4
}
