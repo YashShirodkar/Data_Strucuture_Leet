{
 "cells": [
  {
   "cell_type": "code",
   "execution_count": 4,
   "metadata": {},
   "outputs": [
    {
     "data": {
      "text/plain": [
       "['C3', 'None', 'C1']"
      ]
     },
     "execution_count": 4,
     "metadata": {},
     "output_type": "execute_result"
    }
   ],
   "source": [
    "def sol(numOfCities, cities, xC, yC, numOfQueries, queries):\n",
    "    d = {}\n",
    "    # store them with the coordinates\n",
    "    for i, city in enumerate(cities):\n",
    "        d[city] = (xC[i], yC[i])\n",
    "    ret = []\n",
    "\n",
    "    # let's search\n",
    "    for i, j in enumerate(queries):\n",
    "        tmpDist = 999999\n",
    "        eq=[]\n",
    "        for k in d:\n",
    "            if j == k:\n",
    "                continue\n",
    "            if d[j][0] / d[k][0] == 1 or d[j][1] / d[k][1] == 1:\n",
    "                dist = (d[j][0] - d[k][0])**2 + (d[j][1] - d[k][1])**2\n",
    "                if dist < tmpDist:\n",
    "                    tmpDist = k\n",
    "                    eq=[]\n",
    "                    eq.append(k)\n",
    "                elif dist==tmpDist:\n",
    "                    eq.append(k)\n",
    "        if len(eq)>1:\n",
    "            heapq.heapify(eq)\n",
    "            ret.append(heapq.heappop(eq))\n",
    "            continue\n",
    "        if tmpDist == 999999:\n",
    "            tmpDist = \"None\"\n",
    "        ret.append(tmpDist)\n",
    "\n",
    "    return(ret)\n",
    "    \n",
    "\n",
    "numOfCities = 3\n",
    "cities = ['C1', 'C2', 'C3']\n",
    "xC = [3,2,1]\n",
    "yC = [3,2,3]\n",
    "numOfQueries = 3\n",
    "queries = ['C1', 'C2', 'C3']\n",
    "\n",
    "sol(numOfCities,cities, xC, yC, numOfQueries, queries)"
   ]
  },
  {
   "cell_type": "code",
   "execution_count": null,
   "metadata": {},
   "outputs": [],
   "source": []
  }
 ],
 "metadata": {
  "kernelspec": {
   "display_name": "Python 3",
   "language": "python",
   "name": "python3"
  },
  "language_info": {
   "codemirror_mode": {
    "name": "ipython",
    "version": 3
   },
   "file_extension": ".py",
   "mimetype": "text/x-python",
   "name": "python",
   "nbconvert_exporter": "python",
   "pygments_lexer": "ipython3",
   "version": "3.8.5"
  }
 },
 "nbformat": 4,
 "nbformat_minor": 4
}
