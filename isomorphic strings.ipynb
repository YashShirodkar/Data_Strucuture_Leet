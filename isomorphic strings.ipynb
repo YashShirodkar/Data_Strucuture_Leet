{
 "cells": [
  {
   "cell_type": "code",
   "execution_count": 31,
   "metadata": {},
   "outputs": [
    {
     "name": "stdout",
     "output_type": "stream",
     "text": [
      "e a\n",
      "g d\n",
      "g d\n",
      "['e', 'g', 'g'] ['a', 'd', 'd']\n"
     ]
    }
   ],
   "source": [
    "a = \"egg\"\n",
    "b = \"add\"\n",
    "a = list(a)\n",
    "b = list(b)\n",
    "\n",
    "for i,j in zip(a,b):\n",
    "    \n",
    "    print (i, j)\n",
    "    #a[i].replace(j)\n",
    "    \n",
    "# for i in a:\n",
    "#     for j in b:\n",
    "#         #b.replace(i,j)\n",
    "#         print(i,j)\n",
    "    \n",
    "print (a,b)\n"
   ]
  },
  {
   "cell_type": "code",
   "execution_count": null,
   "metadata": {},
   "outputs": [],
   "source": []
  },
  {
   "cell_type": "code",
   "execution_count": null,
   "metadata": {},
   "outputs": [],
   "source": []
  }
 ],
 "metadata": {
  "kernelspec": {
   "display_name": "Python 3",
   "language": "python",
   "name": "python3"
  },
  "language_info": {
   "codemirror_mode": {
    "name": "ipython",
    "version": 3
   },
   "file_extension": ".py",
   "mimetype": "text/x-python",
   "name": "python",
   "nbconvert_exporter": "python",
   "pygments_lexer": "ipython3",
   "version": "3.8.5"
  }
 },
 "nbformat": 4,
 "nbformat_minor": 4
}
