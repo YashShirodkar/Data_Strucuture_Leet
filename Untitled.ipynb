{
 "cells": [
  {
   "cell_type": "code",
   "execution_count": null,
   "metadata": {},
   "outputs": [],
   "source": [
    "nums1 = [1,2,3,0,0,0]\n",
    "nums2 = [2,5,6]\n",
    "l1 = len(nums1)\n",
    "l2 = len(nums2)\n",
    "len_new= l1 -l2\n",
    "\n",
    "for i in range (0,3):\n",
    "    nums1[len_new] = nums2[i]\n",
    "    len_new = len_new +1    \n",
    "\n",
    "j = 0\n",
    "k = len_new\n",
    "\n",
    "while(j<l1):\n",
    "    if (nums1[j]<nums1[k]):\n",
    "        j = j+1\n",
    "    elif (nums1[j]>=nums1[k]): \n",
    "        temp = nums1[j]\n",
    "        nums1[j] = nums1[k]\n",
    "        nums1[k] = temp\n",
    "        j = j +1\n",
    "        k = k +1\n",
    "        if k == l1:\n",
    "            print(nums1)\n",
    "\n",
    "print (nums1)\n",
    "    \n"
   ]
  },
  {
   "cell_type": "code",
   "execution_count": null,
   "metadata": {},
   "outputs": [],
   "source": []
  }
 ],
 "metadata": {
  "kernelspec": {
   "display_name": "Python 3",
   "language": "python",
   "name": "python3"
  },
  "language_info": {
   "codemirror_mode": {
    "name": "ipython",
    "version": 3
   },
   "file_extension": ".py",
   "mimetype": "text/x-python",
   "name": "python",
   "nbconvert_exporter": "python",
   "pygments_lexer": "ipython3",
   "version": "3.8.5"
  }
 },
 "nbformat": 4,
 "nbformat_minor": 4
}
