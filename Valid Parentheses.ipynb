{
 "cells": [
  {
   "cell_type": "code",
   "execution_count": 20,
   "metadata": {},
   "outputs": [
    {
     "name": "stdout",
     "output_type": "stream",
     "text": [
      "['{']\n",
      "['{']\n"
     ]
    }
   ],
   "source": [
    "s = \"){\"\n",
    "stack = []\n",
    "if len(s)==1:\n",
    "    print (\"False\")\n",
    "\n",
    "for i in s:\n",
    "    if (i == \"(\") or (i == \"{\") or (i == \"[\"):\n",
    "        stack.append(i)\n",
    "        print (stack)\n",
    "    if stack:   \n",
    "        print (stack)\n",
    "        if(i == \")\"):\n",
    "            p1 = stack.pop()\n",
    "            if p1 != \"(\":\n",
    "                print (\"False\")\n",
    "                break\n",
    "                #return False\n",
    "        elif(i == \"}\"):\n",
    "            p1 = stack.pop()\n",
    "            if p1 != \"{\":\n",
    "                print (\"False\")\n",
    "                break\n",
    "                #return False\n",
    "        elif(i == \"]\"):\n",
    "            p1 = stack.pop()\n",
    "            if p1 != \"[\":\n",
    "                print (\"False\")\n",
    "                break\n",
    "                #return False\n",
    "    if (not stack) and (i!=\")\"):\n",
    "        print (\"True\") "
   ]
  },
  {
   "cell_type": "code",
   "execution_count": null,
   "metadata": {},
   "outputs": [],
   "source": []
  },
  {
   "cell_type": "code",
   "execution_count": null,
   "metadata": {},
   "outputs": [],
   "source": []
  }
 ],
 "metadata": {
  "kernelspec": {
   "display_name": "Python 3",
   "language": "python",
   "name": "python3"
  },
  "language_info": {
   "codemirror_mode": {
    "name": "ipython",
    "version": 3
   },
   "file_extension": ".py",
   "mimetype": "text/x-python",
   "name": "python",
   "nbconvert_exporter": "python",
   "pygments_lexer": "ipython3",
   "version": "3.8.5"
  }
 },
 "nbformat": 4,
 "nbformat_minor": 4
}
