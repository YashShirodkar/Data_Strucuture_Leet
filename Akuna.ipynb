{
 "cells": [
  {
   "cell_type": "code",
   "execution_count": null,
   "metadata": {},
   "outputs": [],
   "source": [
    "arr = [1, 3, 5, 10, 80]\n",
    "\n",
    "ans,count=0,0\n",
    "for x in sorted(collections.Counter(arr).values(), reverse=True):\n",
    "    count,ans=count+x,ans+1\n",
    "    if count>=len(arr)//2:  break\n",
    "print (ans)"
   ]
  },
  {
   "cell_type": "code",
   "execution_count": null,
   "metadata": {},
   "outputs": [],
   "source": []
  }
 ],
 "metadata": {
  "kernelspec": {
   "display_name": "Python 3",
   "language": "python",
   "name": "python3"
  }
 },
 "nbformat": 4,
 "nbformat_minor": 4
}
