{
 "cells": [
  {
   "cell_type": "code",
   "execution_count": 18,
   "metadata": {},
   "outputs": [
    {
     "name": "stdout",
     "output_type": "stream",
     "text": [
      "[1, 9]\n"
     ]
    }
   ],
   "source": [
    "haystack = \"hellocasdeas\"\n",
    "needle = \"eas\"\n",
    "l = len(haystack)\n",
    "n = len(needle)\n",
    "indexlist = [] \n",
    "\n",
    "\n",
    "for i in range (0, l-1):\n",
    "    for j in (0, n-1):\n",
    "        if haystack[i] == needle[j]:\n",
    "            indexlist.append(i)\n",
    "            break\n",
    "        break\n",
    "            \n",
    "print (indexlist)\n",
    "        "
   ]
  },
  {
   "cell_type": "code",
   "execution_count": null,
   "metadata": {},
   "outputs": [],
   "source": []
  }
 ],
 "metadata": {
  "kernelspec": {
   "display_name": "Python 3",
   "language": "python",
   "name": "python3"
  },
  "language_info": {
   "codemirror_mode": {
    "name": "ipython",
    "version": 3
   },
   "file_extension": ".py",
   "mimetype": "text/x-python",
   "name": "python",
   "nbconvert_exporter": "python",
   "pygments_lexer": "ipython3",
   "version": "3.8.5"
  }
 },
 "nbformat": 4,
 "nbformat_minor": 4
}
