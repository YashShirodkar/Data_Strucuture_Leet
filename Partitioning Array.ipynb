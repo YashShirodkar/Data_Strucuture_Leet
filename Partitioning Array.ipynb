{
 "cells": [
  {
   "cell_type": "code",
   "execution_count": 6,
   "metadata": {},
   "outputs": [
    {
     "name": "stdout",
     "output_type": "stream",
     "text": [
      "True\n"
     ]
    }
   ],
   "source": [
    "from collections import Counter\n",
    "\n",
    "A = [1, 2, 3, 3, 5, 6]\n",
    "k = 3\n",
    "# partition = len(A)/k\n",
    "# dic = {}\n",
    "\n",
    "# for i in A:\n",
    "    \n",
    "#     for j in range(i, k-1):\n",
    "        \n",
    "#         if A[j] is not in dic:\n",
    "#             add A[j]\n",
    "#         elif:\n",
    "#             check if it is a partioned array\n",
    "#         else:\n",
    "#             return False\n",
    "\n",
    "from collections import Counter\n",
    "\n",
    "def solve(k, nums):\n",
    "    if k == 0 or len(nums) == 0:\n",
    "        return \"YES\"\n",
    "    if len(nums)%k != 0:\n",
    "        return \"NO\"\n",
    "    counter = Counter(nums)\n",
    "    for entry in counter:\n",
    "        if counter[entry] > len(nums)/k:\n",
    "            return \"NO\"\n",
    "    return \"YES\"\n",
    "\n",
    "def partion_array(numbers, k):\n",
    "    n = len(numbers)\n",
    "    return n % k == 0 and all(val <= n // k for key, val in Counter(numbers).items())\n",
    "\n",
    "\n",
    "x = partion_array(A,k)  \n",
    "print (x)"
   ]
  },
  {
   "cell_type": "code",
   "execution_count": null,
   "metadata": {},
   "outputs": [],
   "source": []
  }
 ],
 "metadata": {
  "kernelspec": {
   "display_name": "Python 3",
   "language": "python",
   "name": "python3"
  },
  "language_info": {
   "codemirror_mode": {
    "name": "ipython",
    "version": 3
   },
   "file_extension": ".py",
   "mimetype": "text/x-python",
   "name": "python",
   "nbconvert_exporter": "python",
   "pygments_lexer": "ipython3",
   "version": "3.8.5"
  }
 },
 "nbformat": 4,
 "nbformat_minor": 4
}
